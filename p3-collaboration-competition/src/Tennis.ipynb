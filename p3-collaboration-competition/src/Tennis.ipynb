{
 "cells": [
  {
   "cell_type": "markdown",
   "metadata": {},
   "source": [
    "# Collaboration and Competition\n",
    "\n",
    "---\n",
    "\n",
    "You are welcome to use this coding environment to train your agent for the project.  Follow the instructions below to get started!\n",
    "\n",
    "### 1. Start the Environment\n",
    "\n",
    "Run the next code cell to install a few packages.  This line will take a few minutes to run!"
   ]
  },
  {
   "cell_type": "code",
   "execution_count": 1,
   "metadata": {},
   "outputs": [],
   "source": [
    "!pip -q install ./python"
   ]
  },
  {
   "cell_type": "markdown",
   "metadata": {},
   "source": [
    "The environment is already saved in the Workspace and can be accessed at the file path provided below. "
   ]
  },
  {
   "cell_type": "code",
   "execution_count": 2,
   "metadata": {},
   "outputs": [
    {
     "name": "stderr",
     "output_type": "stream",
     "text": [
      "INFO:unityagents:\n",
      "'Academy' started successfully!\n",
      "Unity Academy name: Academy\n",
      "        Number of Brains: 1\n",
      "        Number of External Brains : 1\n",
      "        Lesson number : 0\n",
      "        Reset Parameters :\n",
      "\t\t\n",
      "Unity brain name: TennisBrain\n",
      "        Number of Visual Observations (per agent): 0\n",
      "        Vector Observation space type: continuous\n",
      "        Vector Observation space size (per agent): 8\n",
      "        Number of stacked Vector Observation: 3\n",
      "        Vector Action space type: continuous\n",
      "        Vector Action space size (per agent): 2\n",
      "        Vector Action descriptions: , \n"
     ]
    }
   ],
   "source": [
    "from unityagents import UnityEnvironment\n",
    "import numpy as np\n",
    "\n",
    "env = UnityEnvironment(file_name=\"/data/Tennis_Linux_NoVis/Tennis\")"
   ]
  },
  {
   "cell_type": "markdown",
   "metadata": {},
   "source": [
    "Environments contain **_brains_** which are responsible for deciding the actions of their associated agents. Here we check for the first brain available, and set it as the default brain we will be controlling from Python."
   ]
  },
  {
   "cell_type": "code",
   "execution_count": 3,
   "metadata": {},
   "outputs": [],
   "source": [
    "# get the default brain\n",
    "brain_name = env.brain_names[0]\n",
    "brain = env.brains[brain_name]"
   ]
  },
  {
   "cell_type": "markdown",
   "metadata": {},
   "source": [
    "### 2. Examine the State and Action Spaces\n",
    "\n",
    "Run the code cell below to print some information about the environment."
   ]
  },
  {
   "cell_type": "code",
   "execution_count": 4,
   "metadata": {},
   "outputs": [
    {
     "name": "stdout",
     "output_type": "stream",
     "text": [
      "Number of agents: 2\n",
      "Size of each action: 2\n",
      "There are 2 agents. Each observes a state with length: 24\n",
      "The state for the first agent looks like: [ 0.          0.          0.          0.          0.          0.          0.\n",
      "  0.          0.          0.          0.          0.          0.          0.\n",
      "  0.          0.         -6.65278625 -1.5        -0.          0.\n",
      "  6.83172083  6.         -0.          0.        ]\n"
     ]
    }
   ],
   "source": [
    "# reset the environment\n",
    "env_info = env.reset(train_mode=True)[brain_name]\n",
    "\n",
    "# number of agents \n",
    "num_agents = len(env_info.agents)\n",
    "print('Number of agents:', num_agents)\n",
    "\n",
    "# size of each action\n",
    "action_size = brain.vector_action_space_size\n",
    "print('Size of each action:', action_size)\n",
    "\n",
    "# examine the state space \n",
    "states = env_info.vector_observations\n",
    "state_size = states.shape[1]\n",
    "print('There are {} agents. Each observes a state with length: {}'.format(states.shape[0], state_size))\n",
    "print('The state for the first agent looks like:', states[0])"
   ]
  },
  {
   "cell_type": "markdown",
   "metadata": {},
   "source": [
    "### 3. Take Random Actions in the Environment\n",
    "\n",
    "In the next code cell, you will learn how to use the Python API to control the agent and receive feedback from the environment.\n",
    "\n",
    "Note that **in this coding environment, you will not be able to watch the agents while they are training**, and you should set `train_mode=True` to restart the environment."
   ]
  },
  {
   "cell_type": "code",
   "execution_count": 5,
   "metadata": {},
   "outputs": [
    {
     "name": "stdout",
     "output_type": "stream",
     "text": [
      "Total score (averaged over agents) this episode: 0.04500000085681677\n",
      "Total score (averaged over agents) this episode: -0.004999999888241291\n",
      "Total score (averaged over agents) this episode: -0.004999999888241291\n",
      "Total score (averaged over agents) this episode: -0.004999999888241291\n",
      "Total score (averaged over agents) this episode: -0.004999999888241291\n"
     ]
    }
   ],
   "source": [
    "for i in range(5):                                         # play game for 5 episodes\n",
    "    env_info = env.reset(train_mode=False)[brain_name]     # reset the environment    \n",
    "    states = env_info.vector_observations                  # get the current state (for each agent)\n",
    "    scores = np.zeros(num_agents)                          # initialize the score (for each agent)\n",
    "    while True:\n",
    "        actions = np.random.randn(num_agents, action_size) # select an action (for each agent)\n",
    "        actions = np.clip(actions, -1, 1)                  # all actions between -1 and 1\n",
    "        env_info = env.step(actions)[brain_name]           # send all actions to tne environment\n",
    "        next_states = env_info.vector_observations         # get next state (for each agent)\n",
    "        rewards = env_info.rewards                         # get reward (for each agent)\n",
    "        dones = env_info.local_done                        # see if episode finished\n",
    "        scores += env_info.rewards                         # update the score (for each agent)\n",
    "        states = next_states                               # roll over states to next time step\n",
    "        if np.any(dones):                                  # exit loop if episode finished\n",
    "            break\n",
    "    print('Total score (averaged over agents) this episode: {}'.format(np.mean(scores)))"
   ]
  },
  {
   "cell_type": "markdown",
   "metadata": {},
   "source": [
    "When finished, you can close the environment."
   ]
  },
  {
   "cell_type": "code",
   "execution_count": null,
   "metadata": {},
   "outputs": [],
   "source": [
    "env.close()"
   ]
  },
  {
   "cell_type": "markdown",
   "metadata": {},
   "source": [
    "### 4. It's Your Turn!\n",
    "\n",
    "Now it's your turn to train your own agent to solve the environment!  A few **important notes**:\n",
    "- When training the environment, set `train_mode=True`, so that the line for resetting the environment looks like the following:\n",
    "```python\n",
    "env_info = env.reset(train_mode=True)[brain_name]\n",
    "```\n",
    "- To structure your work, you're welcome to work directly in this Jupyter notebook, or you might like to start over with a new file!  You can see the list of files in the workspace by clicking on **_Jupyter_** in the top left corner of the notebook.\n",
    "- In this coding environment, you will not be able to watch the agents while they are training.  However, **_after training the agents_**, you can download the saved model weights to watch the agents on your own machine! "
   ]
  },
  {
   "cell_type": "code",
   "execution_count": 6,
   "metadata": {},
   "outputs": [],
   "source": [
    "from collections import deque\n",
    "from ddpg_agent import Agent\n",
    "import torch\n",
    "import time\n",
    "import matplotlib.pyplot as plt\n",
    "%matplotlib inline"
   ]
  },
  {
   "cell_type": "code",
   "execution_count": 7,
   "metadata": {},
   "outputs": [],
   "source": [
    "def ddpg(n_episodes=10000, max_t=1000, num_agents=20, rolling_window=100):\n",
    "    \"\"\"\"\n",
    "    Deep Deterministic Policy Gradient (DDPG)\n",
    "    \n",
    "    Params\n",
    "    ======\n",
    "        n_episodes (int): maximum number of training episodes\n",
    "        max_t (int): maximum number of timesteps per episode\n",
    "    \"\"\"\n",
    "    \n",
    "    score_rolling_window = deque(maxlen=rolling_window)\n",
    "    score_list = []\n",
    "    \n",
    "    for i_episode in range(1, n_episodes+1):\n",
    "        env_info = env.reset(train_mode=True)[brain_name]           # reset the environment\n",
    "        state = env_info.vector_observations                        # get current state\n",
    "        for agent in agents:\n",
    "            agent.reset()                                           # reset agents\n",
    "        score = np.zeros(num_agents)\n",
    "        \n",
    "        time_start = time.time()\n",
    "        for step in range(max_t):\n",
    "            agents_actions = []\n",
    "            for a, agent in enumerate(agents):\n",
    "                agents_actions.append(agent.act(state[a]))          # select an action from every agent\n",
    "                                              \n",
    "            env_info = env.step(agents_actions)[brain_name]         # perform action within the environment\n",
    "            next_states = env_info.vector_observations              # get next state after action\n",
    "            rewards = env_info.rewards                              # receive reward\n",
    "            done = env_info.local_done                              # check if episode is done\n",
    "            \n",
    "            for a, agent in enumerate(agents):                      # perform agents step\n",
    "                agent.step(state[a], \n",
    "                           agents_actions[a], \n",
    "                           rewards[a], \n",
    "                           next_states[a], \n",
    "                           done[a])\n",
    "            \n",
    "            state = next_states                                     # update state\n",
    "            score += rewards                                        # add rewards\n",
    "            \n",
    "            if np.any(done):\n",
    "                break \n",
    "                \n",
    "        avg_score = np.mean(score)\n",
    "        score_list.append(avg_score)\n",
    "\n",
    "        score_rolling_window.append(avg_score)\n",
    "        avg_rolling_score = np.mean(score_rolling_window)\n",
    "        \n",
    "        \n",
    "        print('\\rEpisode {}\\tAverage Score: {:.2f}\\tScore: {:.3f}\\tTime: {:.2f}'.format(i_episode, \n",
    "                                                                                        avg_rolling_score, \n",
    "                                                                                        avg_score, \n",
    "                                                                                        time.time() - time_start), end=\"\")\n",
    "        torch.save(agent.actor_local.state_dict(), 'checkpoint_ddpg_actor.pth')\n",
    "        torch.save(agent.critic_local.state_dict(), 'checkpoint_ddpg_critic.pth')\n",
    "        \n",
    "        if i_episode % 100 == 0:\n",
    "            print('\\rEpisode {}\\tAverage Score: {:.2f}'.format(i_episode, avg_rolling_score))\n",
    "        if avg_score >= 0.5:\n",
    "            print('\\nEnvironment solved in {:d} episodes!\\tAverage Score: {:.2f}'.format(i_episode, avg_rolling_score))\n",
    "            torch.save(agent.actor_local.state_dict(), 'checkpoint_ddpg_actor.pth')\n",
    "            torch.save(agent.critic_local.state_dict(), 'checkpoint_ddpg_critic.pth')\n",
    "            break\n",
    "            \n",
    "    return score_list"
   ]
  },
  {
   "cell_type": "code",
   "execution_count": null,
   "metadata": {},
   "outputs": [
    {
     "name": "stdout",
     "output_type": "stream",
     "text": [
      "Episode 100\tAverage Score: -0.00\tScore: -0.005\tTime: 2.22\n",
      "Episode 200\tAverage Score: -0.00\tScore: -0.005\tTime: 2.44\n",
      "Episode 300\tAverage Score: -0.00\tScore: -0.005\tTime: 2.52\n",
      "Episode 400\tAverage Score: -0.00\tScore: -0.005\tTime: 2.41\n",
      "Episode 500\tAverage Score: -0.00\tScore: -0.005\tTime: 2.41\n",
      "Episode 600\tAverage Score: -0.00\tScore: -0.005\tTime: 2.49\n",
      "Episode 700\tAverage Score: -0.00\tScore: -0.005\tTime: 2.52\n",
      "Episode 800\tAverage Score: -0.00\tScore: -0.005\tTime: 2.39\n",
      "Episode 900\tAverage Score: -0.00\tScore: -0.005\tTime: 2.43\n",
      "Episode 1000\tAverage Score: 0.00\tScore: -0.005\tTime: 2.27\n",
      "Episode 1100\tAverage Score: 0.01\tScore: -0.005\tTime: 2.152\n",
      "Episode 1200\tAverage Score: 0.00\tScore: -0.005\tTime: 2.21\n",
      "Episode 1300\tAverage Score: -0.00\tScore: -0.005\tTime: 2.27\n",
      "Episode 1400\tAverage Score: 0.01\tScore: -0.005\tTime: 2.232\n",
      "Episode 1500\tAverage Score: 0.01\tScore: 0.045\tTime: 5.310\n",
      "Episode 1600\tAverage Score: 0.02\tScore: 0.045\tTime: 4.962\n",
      "Episode 1700\tAverage Score: 0.01\tScore: -0.005\tTime: 2.28\n",
      "Episode 1800\tAverage Score: 0.02\tScore: 0.045\tTime: 5.026\n",
      "Episode 1900\tAverage Score: 0.02\tScore: 0.045\tTime: 4.886\n",
      "Episode 2000\tAverage Score: 0.02\tScore: -0.005\tTime: 2.32\n",
      "Episode 2100\tAverage Score: 0.02\tScore: -0.005\tTime: 2.37\n",
      "Episode 2200\tAverage Score: 0.02\tScore: -0.005\tTime: 2.42\n",
      "Episode 2300\tAverage Score: 0.02\tScore: 0.045\tTime: 5.234\n",
      "Episode 2400\tAverage Score: 0.02\tScore: 0.045\tTime: 5.505\n",
      "Episode 2500\tAverage Score: 0.02\tScore: -0.005\tTime: 2.57\n",
      "Episode 2600\tAverage Score: 0.02\tScore: -0.005\tTime: 2.41\n",
      "Episode 2700\tAverage Score: 0.02\tScore: -0.005\tTime: 2.39\n",
      "Episode 2800\tAverage Score: 0.02\tScore: 0.045\tTime: 5.189\n",
      "Episode 2900\tAverage Score: 0.02\tScore: -0.005\tTime: 2.62\n",
      "Episode 3000\tAverage Score: 0.02\tScore: 0.045\tTime: 5.557\n",
      "Episode 3100\tAverage Score: 0.02\tScore: 0.045\tTime: 5.471\n",
      "Episode 3200\tAverage Score: 0.02\tScore: 0.095\tTime: 11.04\n",
      "Episode 3203\tAverage Score: 0.02\tScore: -0.005\tTime: 2.51"
     ]
    }
   ],
   "source": [
    "agents = []\n",
    "\n",
    "for a in range(num_agents): \n",
    "    agents.append(Agent(state_size=state_size, action_size=action_size, random_seed=23))\n",
    "\n",
    "score_list = ddpg(num_agents=2)\n",
    "\n",
    "fig = plt.figure()\n",
    "ax = fig.add_subplot(111)\n",
    "plt.plot(np.arange(1, len(score_list) + 1), score_list)\n",
    "plt.ylabel('Score')\n",
    "plt.xlabel('Episodes')\n",
    "plt.show()"
   ]
  },
  {
   "cell_type": "code",
   "execution_count": null,
   "metadata": {},
   "outputs": [],
   "source": []
  }
 ],
 "metadata": {
  "kernelspec": {
   "display_name": "Python 3",
   "language": "python",
   "name": "python3"
  },
  "language_info": {
   "codemirror_mode": {
    "name": "ipython",
    "version": 3
   },
   "file_extension": ".py",
   "mimetype": "text/x-python",
   "name": "python",
   "nbconvert_exporter": "python",
   "pygments_lexer": "ipython3",
   "version": "3.6.3"
  }
 },
 "nbformat": 4,
 "nbformat_minor": 2
}
